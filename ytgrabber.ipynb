{
 "cells": [
  {
   "cell_type": "code",
   "execution_count": null,
   "metadata": {},
   "outputs": [],
   "source": [
    "from ytgrabber import YTGrabber"
   ]
  },
  {
   "cell_type": "code",
   "execution_count": 7,
   "metadata": {
    "scrolled": true
   },
   "outputs": [
    {
     "name": "stdout",
     "output_type": "stream",
     "text": [
      "[{'title': 'PROGRAMMING MUSIC MIX 2018', 'href': 'https://www.youtube.com/watch?v=zO5SF36g42U&list=PLEM4vOSCprSsSJpkiQr7XaevjxpUBnhik&index=2&t=0s', 'thumbnail': 'https://i.ytimg.com/vi/zO5SF36g42U/hqdefault.jpg?sqp=-oaymwEYCKgBEF5IVfKriqkDCwgBFQAAiEIYAXAB&rs=AOn4CLASO4X0wLKFc4B7sQzUlJ8xacGQlQ'}, {'title': 'PROGRAMMING MUSIC for FAST MINDS 2018', 'href': 'https://www.youtube.com/watch?v=ASvIFKdDY1E&list=PLEM4vOSCprSsSJpkiQr7XaevjxpUBnhik&index=3&t=0s', 'thumbnail': 'https://i.ytimg.com/vi/ASvIFKdDY1E/hqdefault.jpg?sqp=-oaymwEYCKgBEF5IVfKriqkDCwgBFQAAiEIYAXAB&rs=AOn4CLDv1mxJmRTrlC9R6OeUAJ6e-GZfjg'}, {'title': 'PROGRAMMING MUSIC for DARK MINDS 2019', 'href': 'https://www.youtube.com/watch?v=AtitOXy0iWo&list=PLEM4vOSCprSsSJpkiQr7XaevjxpUBnhik&index=4&t=0s', 'thumbnail': 'https://i.ytimg.com/vi/AtitOXy0iWo/hqdefault.jpg?sqp=-oaymwEYCKgBEF5IVfKriqkDCwgBFQAAiEIYAXAB&rs=AOn4CLBsh97X2pWBak5uICDtxVuqZc5ndw'}, {'title': 'Hacking Active Background Music', 'href': 'https://www.youtube.com/watch?v=TsjfyhmBd1g&list=PLEM4vOSCprSsSJpkiQr7XaevjxpUBnhik&index=5&t=0s', 'thumbnail': 'https://i.ytimg.com/vi/TsjfyhmBd1g/hqdefault.jpg?sqp=-oaymwEYCKgBEF5IVfKriqkDCwgBFQAAiEIYAXAB&rs=AOn4CLBDKJqGMVPGWOgwDQgYX8Qf2HfjOQ'}, {'title': 'PROGRAMMING MUSIC MIX', 'href': 'https://www.youtube.com/watch?v=_N-gOQ-SaVY&list=PLEM4vOSCprSsSJpkiQr7XaevjxpUBnhik&index=6&t=0s', 'thumbnail': 'https://i.ytimg.com/vi/_N-gOQ-SaVY/hqdefault.jpg?sqp=-oaymwEYCKgBEF5IVfKriqkDCwgBFQAAiEIYAXAB&rs=AOn4CLBBEXlE-B9bo-OL3lNf0mP0yyYA2A'}, {'title': 'HACK your MIND - Focus & Work Music 🔶 #12', 'href': 'https://www.youtube.com/watch?v=DvDPnieadZc&list=PLEM4vOSCprSsSJpkiQr7XaevjxpUBnhik&index=7&t=0s', 'thumbnail': 'https://i.ytimg.com/vi/DvDPnieadZc/hqdefault.jpg?sqp=-oaymwEYCKgBEF5IVfKriqkDCwgBFQAAiEIYAXAB&rs=AOn4CLA8x0b1jM0L834yudDQGn67-BWHOg'}, {'title': 'Hacking Music Mix - Mr. Robot 🤖#13', 'href': 'https://www.youtube.com/watch?v=iAYMJk9IsDA&list=PLEM4vOSCprSsSJpkiQr7XaevjxpUBnhik&index=8&t=0s', 'thumbnail': 'https://i.ytimg.com/vi/iAYMJk9IsDA/hqdefault.jpg?sqp=-oaymwEYCKgBEF5IVfKriqkDCwgBFQAAiEIYAXAB&rs=AOn4CLB-sicYAu9Tk11pJcKPgsmkKuw8mw'}, {'title': 'FOCUS BOOST Coding Music 🧩#15', 'href': 'https://www.youtube.com/watch?v=cQ-a18zEBmI&list=PLEM4vOSCprSsSJpkiQr7XaevjxpUBnhik&index=9&t=0s', 'thumbnail': 'https://i.ytimg.com/vi/cQ-a18zEBmI/hqdefault.jpg?sqp=-oaymwEYCKgBEF5IVfKriqkDCwgBFQAAiEIYAXAB&rs=AOn4CLBEeo1F10VR8vKyU9xc8bLb-QsIkw'}, {'title': 'DARK MIND - Active Focus Mood 💀#16', 'href': 'https://www.youtube.com/watch?v=VwS_3UJprko&list=PLEM4vOSCprSsSJpkiQr7XaevjxpUBnhik&index=10&t=0s', 'thumbnail': 'https://i.ytimg.com/vi/VwS_3UJprko/hqdefault.jpg?sqp=-oaymwEYCKgBEF5IVfKriqkDCwgBFQAAiEIYAXAB&rs=AOn4CLAbCEQjQBj4sYP9jBzASj8seCpUIg'}, {'title': 'Programming // Hacking // Coding Music 🌀#17', 'href': 'https://www.youtube.com/watch?v=ML2gncutAJQ&list=PLEM4vOSCprSsSJpkiQr7XaevjxpUBnhik&index=11&t=0s', 'thumbnail': 'https://i.ytimg.com/vi/ML2gncutAJQ/hqdefault.jpg?sqp=-oaymwEYCKgBEF5IVfKriqkDCwgBFQAAiEIYAXAB&rs=AOn4CLB-dDYeM-l1q0Sil5Hnkd0ReeQxKw'}, {'title': 'CYBER DESIGNER - Concentration Music 🔥 #18', 'href': 'https://www.youtube.com/watch?v=fHDpe5j0ZPg&list=PLEM4vOSCprSsSJpkiQr7XaevjxpUBnhik&index=12&t=0s', 'thumbnail': 'https://i.ytimg.com/vi/fHDpe5j0ZPg/hqdefault.jpg?sqp=-oaymwEYCKgBEF5IVfKriqkDCwgBFQAAiEIYAXAB&rs=AOn4CLCf2GngkDlX0d-6Tt0JrAbSNc_8PQ'}]\n"
     ]
    }
   ],
   "source": [
    "with YTGrabber() as grabber:\n",
    "    videos = grabber.get_content('https://www.youtube.com/playlist?list=PLEM4vOSCprSsSJpkiQr7XaevjxpUBnhik')\n",
    "    print(videos)"
   ]
  },
  {
   "cell_type": "code",
   "execution_count": 8,
   "metadata": {},
   "outputs": [
    {
     "name": "stdout",
     "output_type": "stream",
     "text": [
      "[{'title': 'CYBER DESIGNER - Concentration Music 🔥 #18', 'href': 'https://www.youtube.com/watch?v=fHDpe5j0ZPg', 'thumbnail': 'https://i.ytimg.com/vi/fHDpe5j0ZPg/hqdefault.jpg?sqp=-oaymwEZCPYBEIoBSFXyq4qpAwsIARUAAIhCGAFwAQ==&rs=AOn4CLBRA0s6_qCtyFkVkBm6u78la70rtw'}, {'title': 'Programming // Hacking // Coding Music 🌀#17', 'href': 'https://www.youtube.com/watch?v=ML2gncutAJQ', 'thumbnail': 'https://i.ytimg.com/vi/ML2gncutAJQ/hqdefault.jpg?sqp=-oaymwEZCPYBEIoBSFXyq4qpAwsIARUAAIhCGAFwAQ==&rs=AOn4CLBme-FloIbtEzU-cweRwMpZpn_qkA'}, {'title': 'DARK MIND - Active Focus Mood 💀#16', 'href': 'https://www.youtube.com/watch?v=VwS_3UJprko', 'thumbnail': 'https://i.ytimg.com/vi/VwS_3UJprko/hqdefault.jpg?sqp=-oaymwEZCPYBEIoBSFXyq4qpAwsIARUAAIhCGAFwAQ==&rs=AOn4CLDPl2B_eZPljfyTcg2e-EwK16y-4g'}, {'title': 'FOCUS BOOST Coding Music 🧩#15', 'href': 'https://www.youtube.com/watch?v=cQ-a18zEBmI', 'thumbnail': 'https://i.ytimg.com/vi/cQ-a18zEBmI/hqdefault.jpg?sqp=-oaymwEZCPYBEIoBSFXyq4qpAwsIARUAAIhCGAFwAQ==&rs=AOn4CLAB50uSu2LOBEZ2cpx45iz3FLaUbg'}, {'title': 'Programming // Hacking - BIOHAZARD Edition ☣️ #14', 'href': 'https://www.youtube.com/watch?v=ZzRnX4UNJso', 'thumbnail': 'https://i.ytimg.com/vi/ZzRnX4UNJso/hqdefault.jpg?sqp=-oaymwEZCPYBEIoBSFXyq4qpAwsIARUAAIhCGAFwAQ==&rs=AOn4CLAAkaqoEH5GQrGnQtIsX0j1LVn8yA'}, {'title': 'Hacking Music Mix - Mr. Robot 🤖#13', 'href': 'https://www.youtube.com/watch?v=iAYMJk9IsDA', 'thumbnail': 'https://i.ytimg.com/vi/iAYMJk9IsDA/hqdefault.jpg?sqp=-oaymwEZCPYBEIoBSFXyq4qpAwsIARUAAIhCGAFwAQ==&rs=AOn4CLDZux4iWQvIDB4FRqDyQoVq2M-x2w'}, {'title': 'HACK your MIND - Focus & Work Music 🔶 #12', 'href': 'https://www.youtube.com/watch?v=DvDPnieadZc', 'thumbnail': 'https://i.ytimg.com/vi/DvDPnieadZc/hqdefault.jpg?sqp=-oaymwEZCPYBEIoBSFXyq4qpAwsIARUAAIhCGAFwAQ==&rs=AOn4CLAW2c57GI7mzNzuzFbYeuWM1aJqig'}, {'title': 'Focus & Concentration - Lost in Beats ❤️ #11', 'href': 'https://www.youtube.com/watch?v=DREsDEUWPYc', 'thumbnail': 'https://i.ytimg.com/vi/DREsDEUWPYc/hqdefault.jpg?sqp=-oaymwEZCPYBEIoBSFXyq4qpAwsIARUAAIhCGAFwAQ==&rs=AOn4CLBBAmvpujkP1UC3QQE3cpbiTGbHgQ'}, {'title': 'Programming Music - SPACE Edition 🌍 #10', 'href': 'https://www.youtube.com/watch?v=FUV3BulYrJQ', 'thumbnail': 'https://i.ytimg.com/vi/FUV3BulYrJQ/hqdefault.jpg?sqp=-oaymwEZCPYBEIoBSFXyq4qpAwsIARUAAIhCGAFwAQ==&rs=AOn4CLB3Ht1LfBqQ--YpIe4yTM_W7bwdhg'}, {'title': 'Music for Coding - Tesseract of Code 💎 #9', 'href': 'https://www.youtube.com/watch?v=waqxrK-EFI0', 'thumbnail': None}, {'title': 'Music for Programming - HALF LIFE Edition ☢️ #8', 'href': 'https://www.youtube.com/watch?v=ALBMaQvS004', 'thumbnail': None}, {'title': 'Active Background Coding - UNIVERSE Edition ✨ #7', 'href': 'https://www.youtube.com/watch?v=EWD8JhDlZ1s', 'thumbnail': None}, {'title': 'Crypto Programming VIBE Music 🦠 #6', 'href': 'https://www.youtube.com/watch?v=8x1svKFbdU0', 'thumbnail': None}, {'title': 'Hacker // Programming // Coding Music 💠 #5', 'href': 'https://www.youtube.com/watch?v=ALbDv_4mM0g', 'thumbnail': None}, {'title': 'Programming Music - JOHN WICK Edition 🐺 #4', 'href': 'https://www.youtube.com/watch?v=fuUFrAVGYe4', 'thumbnail': None}, {'title': 'Anonymous Slow Down Coding 🔒 #3', 'href': 'https://www.youtube.com/watch?v=P5Jrlg6LSzE', 'thumbnail': None}, {'title': 'Background Warzone Music #2', 'href': 'https://www.youtube.com/watch?v=0H6c0kFgAXo', 'thumbnail': None}, {'title': 'PROGRAMMING MUSIC MIX', 'href': 'https://www.youtube.com/watch?v=_N-gOQ-SaVY', 'thumbnail': None}, {'title': 'Hacker // Programming // Coding Music 🔑 #1', 'href': 'https://www.youtube.com/watch?v=TLbQkfZBwUU', 'thumbnail': None}, {'title': 'Hacking Active Background Music', 'href': 'https://www.youtube.com/watch?v=TsjfyhmBd1g', 'thumbnail': None}, {'title': '🔶PROGRAMMERS UNION 🔶', 'href': 'https://www.youtube.com/watch?v=J8I0LexC4nw', 'thumbnail': None}, {'title': 'PROGRAMMING MUSIC for DARK MINDS 2019', 'href': 'https://www.youtube.com/watch?v=AtitOXy0iWo', 'thumbnail': None}, {'title': 'PROGRAMMING MUSIC for FAST MINDS 2018', 'href': 'https://www.youtube.com/watch?v=ASvIFKdDY1E', 'thumbnail': None}, {'title': 'PROGRAMMING MUSIC MIX 2018', 'href': 'https://www.youtube.com/watch?v=zO5SF36g42U', 'thumbnail': None}, {'title': 'Programming Music Mix for DARK MINDS 2017', 'href': 'https://www.youtube.com/watch?v=EBuhQWpcyTQ', 'thumbnail': 'https://i.ytimg.com/vi/EBuhQWpcyTQ/hqdefault.jpg?sqp=-oaymwEZCPYBEIoBSFXyq4qpAwsIARUAAIhCGAFwAQ==&rs=AOn4CLB_YCP5WfWzuzfE_SbL4422P7DK4g'}, {'title': 'Chillout Programming Mix', 'href': 'https://www.youtube.com/watch?v=U6QX7aAwPhg', 'thumbnail': 'https://i.ytimg.com/vi/U6QX7aAwPhg/hqdefault.jpg?sqp=-oaymwEZCPYBEIoBSFXyq4qpAwsIARUAAIhCGAFwAQ==&rs=AOn4CLC3AfPkmM_1Y2Kz7purrbzDpmTxAg'}, {'title': 'Battlefield 3/4 MIX for Programmers #2', 'href': 'https://www.youtube.com/watch?v=pcevFZi4Wgs', 'thumbnail': 'https://i.ytimg.com/vi/pcevFZi4Wgs/hqdefault.jpg?sqp=-oaymwEZCPYBEIoBSFXyq4qpAwsIARUAAIhCGAFwAQ==&rs=AOn4CLD04pe6N-7Iufq3L6k2YL-VHTJ6vA'}, {'title': 'Battlefield 1/3/4 MIX for Programmers', 'href': 'https://www.youtube.com/watch?v=tX22unMbtCY', 'thumbnail': 'https://i.ytimg.com/vi/tX22unMbtCY/hqdefault.jpg?sqp=-oaymwEZCPYBEIoBSFXyq4qpAwsIARUAAIhCGAFwAQ==&rs=AOn4CLAj2IUGz_gyD79v-UIEPp1bdHkjmQ'}, {'title': 'Programming Music Mix 2016', 'href': 'https://www.youtube.com/watch?v=e2A7T3VCuMI', 'thumbnail': 'https://i.ytimg.com/vi/e2A7T3VCuMI/hqdefault.jpg?sqp=-oaymwEZCPYBEIoBSFXyq4qpAwsIARUAAIhCGAFwAQ==&rs=AOn4CLDAgjrb28qWkRmANkigefAlVwOUqw'}, {'title': 'Calm Designer / Programmer Music', 'href': 'https://www.youtube.com/watch?v=vvixb-jE250', 'thumbnail': 'https://i.ytimg.com/vi/vvixb-jE250/hqdefault.jpg?sqp=-oaymwEZCPYBEIoBSFXyq4qpAwsIARUAAIhCGAFwAQ==&rs=AOn4CLC-JWomej3IEi0cBiV4FkX79AHJlg'}, {'title': 'Programming Music Mix for Dark Minds 2016', 'href': 'https://www.youtube.com/watch?v=aAF5k9oIX0g', 'thumbnail': 'https://i.ytimg.com/vi/aAF5k9oIX0g/hqdefault.jpg?sqp=-oaymwEZCPYBEIoBSFXyq4qpAwsIARUAAIhCGAFwAQ==&rs=AOn4CLBYIH-Fqmhm2i-06D0QkCi5jR025g'}, {'title': 'Programming Music Mix for Dark Minds', 'href': 'https://www.youtube.com/watch?v=6dkqVj7heiA', 'thumbnail': 'https://i.ytimg.com/vi/6dkqVj7heiA/hqdefault.jpg?sqp=-oaymwEZCPYBEIoBSFXyq4qpAwsIARUAAIhCGAFwAQ==&rs=AOn4CLDCMkr3LnNEv7Y8qSPExqy5HZ7CSw'}, {'title': 'Programming Music Mix 2015 #2', 'href': 'https://www.youtube.com/watch?v=-b_Qp0hTTvM', 'thumbnail': 'https://i.ytimg.com/vi/-b_Qp0hTTvM/hqdefault.jpg?sqp=-oaymwEZCPYBEIoBSFXyq4qpAwsIARUAAIhCGAFwAQ==&rs=AOn4CLDtoMUiJ-_wEWMEHbgFtn79FSCZZA'}, {'title': 'Programming Music Mix 2015', 'href': 'https://www.youtube.com/watch?v=5AOI0aXiL6I', 'thumbnail': 'https://i.ytimg.com/vi/5AOI0aXiL6I/hqdefault.jpg?sqp=-oaymwEZCPYBEIoBSFXyq4qpAwsIARUAAIhCGAFwAQ==&rs=AOn4CLCtyK0jBy3QA1TroNwc5G8DkR0y4Q'}]\n"
     ]
    }
   ],
   "source": [
    "with YTGrabber() as grabber:\n",
    "    videos = grabber.get_content('https://www.youtube.com/channel/UCMXHtrkazQjeCOteE4sof8g/videos')\n",
    "    print(videos)"
   ]
  },
  {
   "cell_type": "code",
   "execution_count": null,
   "metadata": {},
   "outputs": [],
   "source": [
    "with YTGrabber() as grabber:\n",
    "    videos = grabber.get_content(\"https://www.youtube.com/channel/UCMXHtrkazQjeCOteE4sof8g/playlists\")\n",
    "    print(videos)"
   ]
  },
  {
   "cell_type": "code",
   "execution_count": null,
   "metadata": {},
   "outputs": [],
   "source": []
  }
 ],
 "metadata": {
  "kernelspec": {
   "display_name": "Python 3",
   "language": "python",
   "name": "python3"
  },
  "language_info": {
   "codemirror_mode": {
    "name": "ipython",
    "version": 3
   },
   "file_extension": ".py",
   "mimetype": "text/x-python",
   "name": "python",
   "nbconvert_exporter": "python",
   "pygments_lexer": "ipython3",
   "version": "3.8.1"
  }
 },
 "nbformat": 4,
 "nbformat_minor": 4
}
